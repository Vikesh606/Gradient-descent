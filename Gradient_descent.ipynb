{
  "nbformat": 4,
  "nbformat_minor": 0,
  "metadata": {
    "colab": {
      "name": "Gradient descent.ipynb",
      "provenance": [],
      "collapsed_sections": []
    },
    "kernelspec": {
      "name": "python3",
      "display_name": "Python 3"
    }
  },
  "cells": [
    {
      "cell_type": "code",
      "metadata": {
        "id": "kcZk4HYoKWBl"
      },
      "source": [
        "import numpy as np\r\n",
        "import matplotlib.pyplot as plt"
      ],
      "execution_count": 4,
      "outputs": []
    },
    {
      "cell_type": "code",
      "metadata": {
        "id": "dio1N3DZKvrX"
      },
      "source": [
        "import numpy as np\r\n",
        "import matplotlib.pyplot as plt"
      ],
      "execution_count": 14,
      "outputs": []
    },
    {
      "cell_type": "code",
      "metadata": {
        "id": "ppqXc1Z6Pfcd"
      },
      "source": [
        "cur_x = 0.7\r\n",
        "rate = 0.001\r\n",
        "precision = 0.00000001\r\n",
        "previous_step_size = 1\r\n",
        "max_iters = 2000\r\n",
        "iters = 0\r\n",
        "\r\n",
        "f = lambda x: x**8+x**7+x**6-x**5+x**4-x**3+x**2-x+1              #Function\r\n",
        "df = lambda x: 8*x**7+7*x**6+6*x**5-5*x**4+4*x**3-3*x**2+2*x-1    #Gradient"
      ],
      "execution_count": 19,
      "outputs": []
    },
    {
      "cell_type": "code",
      "metadata": {
        "colab": {
          "base_uri": "https://localhost:8080/",
          "height": 265
        },
        "id": "0Bhujy2rPnGs",
        "outputId": "a8b64133-fbf8-464d-a3b5-3979f5e31103"
      },
      "source": [
        "x = np.arange(-1,1,0.001)\r\n",
        "plt.plot(x,x**8+x**7+x**6-x**5+x**4-x**3+x**2-x+1)\r\n",
        "plt.show()"
      ],
      "execution_count": 21,
      "outputs": [
        {
          "output_type": "display_data",
          "data": {
            "image/png": "[encoded data removed]",
            "text/plain": [
              "<Figure size 432x288 with 1 Axes>"
            ]
          },
          "metadata": {
            "tags": [],
            "needs_background": "light"
          }
        }
      ]
    },
    {
      "cell_type": "code",
      "metadata": {
        "colab": {
          "base_uri": "https://localhost:8080/",
          "height": 282
        },
        "id": "tNkG-YZgQA3R",
        "outputId": "ca5cb50d-a555-4027-9614-2265fa3f9e24"
      },
      "source": [
        "while previous_step_size > precision and iters < max_iters:\r\n",
        "  prev_x = cur_x\r\n",
        "  cur_x = cur_x - rate*df(prev_x)          #Gradient Descent\r\n",
        "  previous_step_size = abs(cur_x - prev_x)\r\n",
        "  iters = iters + 1\r\n",
        " \r\n",
        "  \r\n",
        "plt.plot(x,f(x),'b')\r\n",
        "plt.plot(cur_x,f(cur_x),'r+')\r\n",
        "plt.show()\r\n",
        "print(\"The local minima occures at\",cur_x)"
      ],
      "execution_count": 22,
      "outputs": [
        {
          "output_type": "display_data",
          "data": {
            "image/png": "[encoded data removed]",
            "text/plain": [
              "<Figure size 432x288 with 1 Axes>"
            ]
          },
          "metadata": {
            "tags": [],
            "needs_background": "light"
          }
        },
        {
          "output_type": "stream",
          "text": [
            "The local minima occures at 0.7145325685999826\n"
          ],
          "name": "stdout"
        }
      ]
    }
  ]
}